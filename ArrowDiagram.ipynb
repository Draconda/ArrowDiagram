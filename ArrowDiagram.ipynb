{
 "cells": [
  {
   "cell_type": "markdown",
   "metadata": {},
   "source": [
    "## Put node informations\n",
    "## (\"name\":(time cost, (ingredient node of the node\"name\")))"
   ]
  },
  {
   "cell_type": "code",
   "execution_count": 1,
   "metadata": {},
   "outputs": [],
   "source": [
    "nodes={\"a\":(3,()),\"b\":(2,()),\"c\":(5,()),\"d\":(6,()),\"e\":(3,()),\"f\":(7,()),\"g\":(6,(\"a\",\"b\")),\"h\":(4,(\"b\",\"c\",\"d\")),\"i\":(5,(\"g\")),\"j\":(2,(\"e\",\"f\",\"g\",\"h\")),\"k\":(8,(\"i\",\"j\")),\"l\":(6,(\"j\")),\"m\":(0,(\"k\",\"l\"))}"
   ]
  },
  {
   "cell_type": "markdown",
   "metadata": {},
   "source": [
    "## Preparation to get event time"
   ]
  },
  {
   "cell_type": "code",
   "execution_count": 5,
   "metadata": {},
   "outputs": [
    {
     "data": {
      "image/png": "[encoded data removed]",
      "text/plain": [
       "<Figure size 432x288 with 1 Axes>"
      ]
     },
     "metadata": {},
     "output_type": "display_data"
    }
   ],
   "source": [
    "route_list=[]\n",
    "for i in nodes:\n",
    "    for j in nodes[i][1]:\n",
    "        route_list.append((j,i))\n",
    "reversed_material_dict={}\n",
    "reversed_material_dict_vertial={}\n",
    "for i in nodes:\n",
    "    reversed_material_dict_vertial[i]=(nodes[i][0],[])\n",
    "for r in route_list:\n",
    "    for i in nodes:\n",
    "        if i==r[0]:\n",
    "            reversed_material_dict_vertial[i][1].append(r[1])\n",
    "for i in nodes:\n",
    "    reversed_material_dict[i]=(reversed_material_dict_vertial[i][0],tuple(reversed_material_dict_vertial[i][1]))\n",
    "goal=\"m\"\n",
    "start_list=[]\n",
    "for i in nodes:\n",
    "    if nodes[i][1]==():\n",
    "        start_list.append(i)\n",
    "#plot by networkx\n",
    "import networkx as nx\n",
    "graph=nx.DiGraph()\n",
    "for i in nodes:\n",
    "    graph.add_node(i)\n",
    "for k in route_list:\n",
    "    graph.add_edge(k[0],k[1],weight=nodes[k[0]][0])\n",
    "nx.draw(graph, with_labels=True, font_weight='bold')"
   ]
  },
  {
   "cell_type": "markdown",
   "metadata": {},
   "source": [
    "## Get all of the path"
   ]
  },
  {
   "cell_type": "code",
   "execution_count": 10,
   "metadata": {
    "scrolled": true
   },
   "outputs": [
    {
     "name": "stdout",
     "output_type": "stream",
     "text": [
      "['a', 'g', 'i', 'k', 'm']\n",
      "['a', 'g', 'j', 'k', 'm']\n",
      "['a', 'g', 'j', 'l', 'm']\n",
      "['b', 'g', 'i', 'k', 'm']\n",
      "['b', 'g', 'j', 'k', 'm']\n",
      "['b', 'g', 'j', 'l', 'm']\n",
      "['b', 'h', 'j', 'k', 'm']\n",
      "['b', 'h', 'j', 'l', 'm']\n",
      "['c', 'h', 'j', 'k', 'm']\n",
      "['c', 'h', 'j', 'l', 'm']\n",
      "['d', 'h', 'j', 'k', 'm']\n",
      "['d', 'h', 'j', 'l', 'm']\n",
      "['e', 'j', 'k', 'm']\n",
      "['e', 'j', 'l', 'm']\n",
      "['f', 'j', 'k', 'm']\n",
      "['f', 'j', 'l', 'm']\n"
     ]
    }
   ],
   "source": [
    "all_path_list=[]\n",
    "for s in start_list:\n",
    "    for path in nx.all_simple_paths(graph, source= s, target=goal):\n",
    "        all_path_list.append(path)\n",
    "        print(path)"
   ]
  },
  {
   "cell_type": "markdown",
   "metadata": {},
   "source": [
    "## Get earliest event time of all nodes"
   ]
  },
  {
   "cell_type": "code",
   "execution_count": 11,
   "metadata": {},
   "outputs": [
    {
     "name": "stdout",
     "output_type": "stream",
     "text": [
      "{'a': 0, 'b': 0, 'c': 0, 'd': 0, 'e': 0, 'f': 0, 'g': 3, 'h': 2, 'i': 9, 'j': 3, 'k': 14, 'l': 5, 'm': 22}\n"
     ]
    }
   ],
   "source": [
    "earliest_event_time_dict={}\n",
    "for s in start_list:\n",
    "    earliest_event_time_dict[s]=0\n",
    "while len(earliest_event_time_dict)!=len(nodes):\n",
    "    for i in nodes:\n",
    "        if not nodes[i][1]==(): \n",
    "            earliest_event_time_dict[i]=earliest_event_time_dict[nodes[i][1][0]]+nodes[nodes[i][1][0]][0]\n",
    "    for n in nodes[i][1]:\n",
    "        if earliest_event_time_dict[i]<(earliest_event_time_dict[n]+nodes[n][0]):\n",
    "            earliest_event_time_dict[i]=earliest_event_time_dict[n]+nodes[n][0]\n",
    "print(earliest_event_time_dict)"
   ]
  },
  {
   "cell_type": "markdown",
   "metadata": {},
   "source": [
    "## Get latest event time of all nodes"
   ]
  },
  {
   "cell_type": "code",
   "execution_count": 14,
   "metadata": {},
   "outputs": [
    {
     "name": "stdout",
     "output_type": "stream",
     "text": [
      "{'m': 22, 'k': 14, 'l': 16, 'i': 9, 'j': 12, 'e': 9, 'f': 5, 'g': 3, 'h': 8, 'a': 0, 'b': 1, 'c': 3, 'd': 2}\n"
     ]
    }
   ],
   "source": [
    "latest_event_time_dict={}\n",
    "latest_event_time_dict[goal]=earliest_event_time_dict[goal]\n",
    "while len(latest_event_time_dict)!=len(nodes):\n",
    "    for i in nodes:\n",
    "        if i!=goal:\n",
    "            list=[]\n",
    "            for k in latest_event_time_dict: \n",
    "                for l in reversed_material_dict_vertial[i][1]:\n",
    "                    if k==l:\n",
    "                        list.append(k)\n",
    "            if list==reversed_material_dict_vertial[i][1]:\n",
    "                latest_event_time_dict[i]=latest_event_time_dict[reversed_material_dict[i][1][0]]-reversed_material_dict[i][0]\n",
    "                for j in reversed_material_dict_vertial[i][1]:\n",
    "                    if latest_event_time_dict[i]>(latest_event_time_dict[j]-reversed_material_dict[i][0]):\n",
    "                        latest_event_time_dict[i]=latest_event_time_dict[j]-reversed_material_dict[i][0]\n",
    "print(latest_event_time_dict)"
   ]
  },
  {
   "cell_type": "markdown",
   "metadata": {},
   "source": [
    "## Get margin of time"
   ]
  },
  {
   "cell_type": "code",
   "execution_count": 15,
   "metadata": {},
   "outputs": [
    {
     "name": "stdout",
     "output_type": "stream",
     "text": [
      "{'a': 0, 'b': 1, 'c': 3, 'd': 2, 'e': 9, 'f': 5, 'g': 0, 'h': 6, 'i': 0, 'j': 9, 'k': 0, 'l': 11, 'm': 0}\n"
     ]
    }
   ],
   "source": [
    "#余裕日数を取得\n",
    "margin_dict={}\n",
    "for i in nodes:\n",
    "    margin_dict[i]=latest_event_time_dict[i]-earliest_event_time_dict[i]\n",
    "print(margin_dict)"
   ]
  },
  {
   "cell_type": "markdown",
   "metadata": {},
   "source": [
    "## Get the critical path"
   ]
  },
  {
   "cell_type": "code",
   "execution_count": 16,
   "metadata": {},
   "outputs": [
    {
     "name": "stdout",
     "output_type": "stream",
     "text": [
      "[['a', 'g', 'i', 'k', 'm']]\n"
     ]
    }
   ],
   "source": [
    "critical_path_list=[]\n",
    "for path in all_path_list:\n",
    "    t=[]\n",
    "    for node in path:\n",
    "        if margin_dict[node]==0:\n",
    "            t.append(node)\n",
    "    if path==t:\n",
    "        critical_path_list.append(path)\n",
    "print(critical_path_list)"
   ]
  }
 ],
 "metadata": {
  "kernelspec": {
   "display_name": "Python 3",
   "language": "python",
   "name": "python3"
  },
  "language_info": {
   "codemirror_mode": {
    "name": "ipython",
    "version": 3
   },
   "file_extension": ".py",
   "mimetype": "text/x-python",
   "name": "python",
   "nbconvert_exporter": "python",
   "pygments_lexer": "ipython3",
   "version": "3.6.5"
  }
 },
 "nbformat": 4,
 "nbformat_minor": 2
}
